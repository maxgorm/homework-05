{
  "cells": [
    {
      "cell_type": "markdown",
      "metadata": {},
      "source": [
        "---\n",
        "title: Homework 4\n",
        "jupyter: python3\n",
        "---\n",
        "\n",
        "\n",
        "This assignment will continue to use the American Community Survey (ACS) from the US Census.\n",
        "You will need to refer to the documentation to know what the ACS variable names mean. You can find a copy of the codebook in the [Lab 4 folder on Google Drive](https://drive.google.com/drive/u/0/folders/1jkY0mTxBhwOvvCJE_CJ3LWiOr_9V1ojZ)\n"
      ]
    },
    {
      "cell_type": "code",
      "execution_count": 1,
      "metadata": {},
      "outputs": [],
      "source": [
        "import warnings\n",
        "warnings.simplefilter(action='ignore', category=FutureWarning)\n",
        "\n",
        "import pandas as pd\n",
        "import numpy as np\n",
        "import seaborn as sb\n",
        "import matplotlib.pyplot as plt\n",
        "pd.options.mode.chained_assignment = None"
      ]
    },
    {
      "cell_type": "code",
      "execution_count": 2,
      "metadata": {},
      "outputs": [],
      "source": [
        "acs = pd.read_csv(\"./pums_short.csv.gz\")"
      ]
    },
    {
      "cell_type": "markdown",
      "metadata": {},
      "source": [
        "## Question 1: Working with missing data\n",
        "\n",
        "### Q1.a\n",
        "\n",
        "In the previous lab we counted the number of missing values for the `\"RNTP\"` column using"
      ]
    },
    {
      "cell_type": "code",
      "execution_count": 3,
      "metadata": {},
      "outputs": [
        {
          "data": {
            "text/plain": [
              "np.int64(202728)"
            ]
          },
          "execution_count": 3,
          "metadata": {},
          "output_type": "execute_result"
        }
      ],
      "source": [
        "acs[\"RNTP\"].isna().sum()"
      ]
    },
    {
      "cell_type": "markdown",
      "metadata": {},
      "source": [
        "Repeat for the `\"VALP\"` column. (If you want, you can compute both totals simultaneously.)\n",
        "\n",
        "Print out the total number of rows in the `acs` table. What do you notice about the total number of rows and the sum of the missing values for these two columns?\n",
        "\n",
        "\n",
        "\n",
        "### Q1.b\n",
        "\n",
        "Write a single line of code that proves that 100% of observations are missing either the `\"VALP\"` or `\"RNTP\"` measurements.\n",
        "\n",
        "\n",
        "### Q1.c\n",
        "\n",
        "The `.dropna()` method has a `subset = ['column1', 'column2']` argument that allows you to indicate which columns your want to use to control how rows are dropped from the result.\n",
        "\n",
        "Create a table called `owners` that only includes households that have non-missing `\"VALP\"` entries. Print out the number of rows in this table and verify it matches the number of observations with *non-missing* `\"VALP\"` entries in `acs`. Hint:"
      ]
    },
    {
      "cell_type": "code",
      "execution_count": 4,
      "metadata": {},
      "outputs": [
        {
          "name": "stdout",
          "output_type": "stream",
          "text": [
            "97644\n",
            "276632\n"
          ]
        }
      ],
      "source": [
        "#Q1a\n",
        "\n",
        "#printing the number of missing values\n",
        "print(acs[\"VALP\"].isna().sum())\n",
        "\n",
        "#printing the total number of rows in the acs table\n",
        "print(len(acs))\n",
        "\n",
        "#The total number of rows is 276632 and the number of missing values is 97644. \n",
        "#This means that there are 178988 (276632 - 97644 = 178988) \n",
        "#rows that have a value for the \"VALP\" column."
      ]
    },
    {
      "cell_type": "code",
      "execution_count": 5,
      "metadata": {},
      "outputs": [
        {
          "name": "stdout",
          "output_type": "stream",
          "text": [
            "True\n"
          ]
        }
      ],
      "source": [
        "#Q1b\n",
        "\n",
        "#bool to prove that 100% of observations are \n",
        "#missing either the `\"VALP\"` or `\"RNTP\"` measurements.\n",
        "\n",
        "print((acs[\"VALP\"].isna() | acs[\"RNTP\"].isna()).sum() == len(acs))\n",
        "\n",
        "\n",
        "#This is a boolean statement that returns True. This means that 100% of the \n",
        "#observations are missing either the \"VALP\" or \"RNTP\" measurements."
      ]
    },
    {
      "cell_type": "code",
      "execution_count": 6,
      "metadata": {},
      "outputs": [
        {
          "data": {
            "text/plain": [
              "0    False\n",
              "1     True\n",
              "2     True\n",
              "3    False\n",
              "dtype: bool"
            ]
          },
          "execution_count": 6,
          "metadata": {},
          "output_type": "execute_result"
        }
      ],
      "source": [
        "hint = pd.Series([True, False, False, True])\n",
        "~ hint"
      ]
    },
    {
      "cell_type": "code",
      "execution_count": 7,
      "metadata": {},
      "outputs": [
        {
          "name": "stdout",
          "output_type": "stream",
          "text": [
            "The answer from Q1a was 178988. The answer from Q1c is:\n",
            "178988\n"
          ]
        },
        {
          "data": {
            "text/plain": [
              "0     True\n",
              "1    False\n",
              "2    False\n",
              "3     True\n",
              "dtype: bool"
            ]
          },
          "execution_count": 7,
          "metadata": {},
          "output_type": "execute_result"
        }
      ],
      "source": [
        "#Q1c\n",
        "\n",
        "print(\"The answer from Q1a was 178988. The answer from Q1c is:\")\n",
        "\n",
        "owners = acs.dropna(subset = [\"VALP\"])\n",
        "print(len(owners))\n",
        "pd.Series([True, False, False, True])\n"
      ]
    },
    {
      "cell_type": "markdown",
      "metadata": {},
      "source": [
        "### Q1.d\n",
        "\n",
        "Using the `owners` table, what **proportion** of rows are missing `\"HINCP\"` values?\n",
        "\n",
        "Find the median value of the non-missing values (hint: built in Panadas methods automatically drop missing values).\n",
        "\n",
        "Using the `.fillna(VALUE, inplace = TRUE)` method, update the `\"HINCP\"` column of the `owners` table by making any missing values equal to median of the non-missing values.\n",
        "\n",
        "Verify by showing that all of the values are not missing for `\"HINCP\"`.\n",
        "\n",
        "\n",
        "\n",
        "### Q1.e\n",
        "\n",
        "Repeat the above steps to create a table `renters` that contains only rows for people who are renting (have non-missing `RNTP` values) and median impute any missing `HINCP` values.\n",
        "\n",
        "For both `owners` and `renters` compute the following quantities for the \"HINCP\" column.\n",
        "- mean\n",
        "- median\n",
        "- IQR\n",
        "- standard deviation\n",
        "\n",
        "Which group has the higher location values? Which group has more spread? Comment briefly on what this means.\n",
        "\n",
        "\n",
        "\n",
        "## Question 2: More on distributions\n",
        "\n",
        "### Q2.a Distributions of number of people in the household\n",
        "\n",
        "Create a histogram of the number of people in the household (`NP`) for the `acs` data. Use the `bins` argument to create a histogram with 20 bins. Briefly discuss the location, spread, and skew of the distribution.\n",
        "\n",
        "### Q2.b Summaries of `NP`\n",
        "\n",
        "Check your answers to the previous question by computing the mean, median, IQR, standard deviation, quantile skewness using the 0.25 and 0.75 quantile, and the coefficient of skewness of the `NP` column.\n",
        "\n",
        "### Q2.c Comparing conditional distribution of NP for owners and renters\n",
        "\n",
        "Create a side-by-side boxplot of the number of people in the household for owners and renters. What do you notice about the distributions of the number of people in the household for owners and renters?\n",
        "\n",
        "### Q2.d Effect size of the difference in means\n",
        "\n",
        "Compute the effect size of the difference in means of the number of people in the household for owners and renters. Use the formula for Cohen's $d$\n",
        "\n",
        "$$d = \\frac{\\bar X_1 - \\bar X_2}{S_p}$$\n",
        "\n",
        "where $\\bar X_1$ and $\\bar X_2$ are the means of the two groups and $S_p$ is the pooled standard deviation.\n",
        "\n",
        "Using the following table of effect sizes, how would you interpret the effect size of the difference in means of the number of people in the household for owners and renters?\n",
        "\n",
        "| Effect size | Interpretation |\n",
        "|-------------|-----------------|\n",
        "| (0, 0.2]    | Small           |\n",
        "| (0.2, 0.5]  | Medium          |\n",
        "| (0.5, 0.1]  | Large           |\n",
        "| (1, 2]      | Very large      |\n",
        "\n",
        "\n",
        "\n",
        "## Question 3: More on means and medians\n",
        "\n",
        "For this problem, we will investigate some theoretical properties of means and medians.\n",
        "\n",
        "### Q3.a\n",
        "\n",
        "We have already seen that the mean is the unique point $\\bar X$ that makes $\\sum_{i=1}^n (X_i - \\bar X) = 0$. While we didn't introduce it as such, it is also the case that $\\bar X$ is the point that **minimizes** $\\sum_{i=1}^n (X_i - \\bar X)^2$, the sum of squared deviations.\n",
        "\n",
        "Using the `HINCP` column of the `acs` data, demonstrate that the sum of squared deviations from the mean is less than the sum of squared deviations from the median ($\\sum_{i=1}^n (X_i - \\tilde X)^2$).\n",
        "\n",
        "Recall that `x**2` is how we square things in Python."
      ]
    },
    {
      "cell_type": "code",
      "execution_count": 8,
      "metadata": {},
      "outputs": [
        {
          "name": "stdout",
          "output_type": "stream",
          "text": [
            "Proportion of rows missing HINCP values: 0.01331932867007844\n",
            "Median value of the non-missing values:  75000.0\n",
            "True\n"
          ]
        }
      ],
      "source": [
        "#Q1d\n",
        "\n",
        "#proportion of rows missing \"HINCP\" values\n",
        "print(\"Proportion of rows missing HINCP values:\", (owners[\"HINCP\"].isna().sum() / owners.shape[0]))   \n",
        "#Proportion of rows missing HINCP values: 0.01331932867007844 (make sure to run all to see this output)\n",
        "#I have noticed some output issues when running this cell individually.\n",
        "\n",
        "#median value of the non-missing values\n",
        "median = owners[\"HINCP\"].median()\n",
        "print(\"Median value of the non-missing values: \", median)\n",
        "#Median value of the non-missing values:  75000.0\n",
        "\n",
        "\n",
        "#update the \"HINCP\" column of the owners table\n",
        "owners[\"HINCP\"].fillna(median, inplace = True)\n",
        "\n",
        "#verify that all of the values are not missing for \"HINCP\"\n",
        "print(owners[\"HINCP\"].isna().sum() == 0) #Should be true to verify that all values are not missing for \"HINCP\""
      ]
    },
    {
      "cell_type": "code",
      "execution_count": 9,
      "metadata": {},
      "outputs": [
        {
          "name": "stdout",
          "output_type": "stream",
          "text": [
            "RENTERS - Median value of the non-missing values:  40000.0\n",
            "RENTERS - Mean value of the non-missing values:  56607.35456808833\n",
            "RENTERS - IQR value of the non-missing values:  49600.0\n",
            "RENTERS - Standard deviation value of the non-missing values:  64594.46491847602\n",
            "\n",
            "OWNERS - Median value of the non-missing values:  75000.0\n",
            "OWNERS - Mean value of the non-missing values:  103101.59041946946\n",
            "OWNERS - IQR value of the non-missing values:  85100.0\n",
            "OWNERS - Standard deviation value of the non-missing values:  107811.39422510703\n"
          ]
        }
      ],
      "source": [
        "#Q1e\n",
        "\n",
        "#Renters table\n",
        "renters = acs.dropna(subset = [\"RNTP\"])\n",
        "\n",
        "\n",
        "#median value of the non-missing values\n",
        "median = renters[\"HINCP\"].median()\n",
        "print(\"RENTERS - Median value of the non-missing values: \", median)\n",
        "\n",
        "#update the \"HINCP\" column of the renters table\n",
        "renters[\"HINCP\"].fillna(median, inplace = True)\n",
        "\n",
        "#verify that all of the values are not missing for \"HINCP\"\n",
        "#print(\"Should be true to verify no values for HINCP are missing:\", renters[\"HINCP\"].isna().sum() == 0) #Should be true to verify that all values are not missing for \"HINCP\"\n",
        "\n",
        "#mean value of the non-missing values\n",
        "mean = renters[\"HINCP\"].mean()\n",
        "print(\"RENTERS - Mean value of the non-missing values: \", mean)\n",
        "\n",
        "#IQR value of the non-missing values\n",
        "IQR = renters[\"HINCP\"].quantile(0.75) - renters[\"HINCP\"].quantile(0.25)\n",
        "print(\"RENTERS - IQR value of the non-missing values: \", IQR)\n",
        "\n",
        "#standard deviation value of the non-missing values\n",
        "std = renters[\"HINCP\"].std()\n",
        "print(\"RENTERS - Standard deviation value of the non-missing values: \", std)\n",
        "\n",
        "\n",
        "#print the same 4 values for the owners table\n",
        "#median value of the non-missing values\n",
        "median = owners[\"HINCP\"].median()\n",
        "print(\"\\nOWNERS - Median value of the non-missing values: \", median)\n",
        "\n",
        "#mean value of the non-missing values\n",
        "mean = owners[\"HINCP\"].mean()\n",
        "print(\"OWNERS - Mean value of the non-missing values: \", mean)\n",
        "\n",
        "#IQR value of the non-missing values\n",
        "IQR = owners[\"HINCP\"].quantile(0.75) - owners[\"HINCP\"].quantile(0.25)\n",
        "print(\"OWNERS - IQR value of the non-missing values: \", IQR)\n",
        "\n",
        "#standard deviation value of the non-missing values\n",
        "std = owners[\"HINCP\"].std()\n",
        "print(\"OWNERS - Standard deviation value of the non-missing values: \", std)\n",
        "\n",
        "#Which group has the higher location values? Which group has more spread? (ANSWER BELOW)\n",
        "\n",
        "#The renters group has a lower median, mean, IQR, and standard deviation value than the owners group.\n",
        "#This means that the owners group has higher location values and more spread than the renters group.\n",
        "#In real world terms, the higher location values and greater spread of the owners group \n",
        "# indicates that there is a wider range of income values for owners than renters and that\n",
        "# the income values for owners are generally higher than the income values for renters.\n"
      ]
    },
    {
      "cell_type": "code",
      "execution_count": 10,
      "metadata": {},
      "outputs": [
        {
          "name": "stdout",
          "output_type": "stream",
          "text": [
            "Mean:  2.208764712686891\n",
            "Median:  2.0\n",
            "IQR:  2.0\n",
            "Standard Deviation:  1.5263892280571307\n",
            "Quantile Skewness:  0.0\n",
            "Coefficient of Skewness:  1.1293427823868294\n"
          ]
        },
        {
          "data": {
            "image/png": "[encoded data removed]",
            "text/plain": [
              "<Figure size 640x480 with 1 Axes>"
            ]
          },
          "metadata": {},
          "output_type": "display_data"
        }
      ],
      "source": [
        "#Q2a\n",
        "\n",
        "sb.histplot(acs[\"NP\"], bins = 20)\n",
        "\n",
        "#The histogram of the number of people in the household (NP) for the acs data is unimodal and right-skewed.\n",
        "#The distribution is centered around roughly 2 people in the household and has a spread that thins out \n",
        "# drastically as the number of people in the household increases past 5.\n",
        "\n",
        "#Q2b\n",
        "\n",
        "#mean\n",
        "mean = acs[\"NP\"].mean()\n",
        "print(\"Mean: \", mean)\n",
        "\n",
        "#median\n",
        "median = acs[\"NP\"].median()\n",
        "print(\"Median: \", median)\n",
        "\n",
        "#IQR\n",
        "IQR = acs[\"NP\"].quantile(0.75) - acs[\"NP\"].quantile(0.25)\n",
        "print(\"IQR: \", IQR)\n",
        "\n",
        "#standard deviation\n",
        "std = acs[\"NP\"].std()\n",
        "print(\"Standard Deviation: \", std)\n",
        "\n",
        "#quantile skewness\n",
        "#(Q3 - Q2) - (Q2 - Q1) / (Q3 - Q1)\n",
        "Q1 = acs[\"NP\"].quantile(0.25)\n",
        "Q2 = acs[\"NP\"].quantile(0.5)\n",
        "Q3 = acs[\"NP\"].quantile(0.75)\n",
        "quantile_skewness = ((Q3 - Q2) - (Q2 - Q1)) / (Q3 - Q1)\n",
        "print(\"Quantile Skewness: \", quantile_skewness)\n",
        "\n",
        "#coefficient of skewness\n",
        "skewness = acs[\"NP\"].skew()\n",
        "print(\"Coefficient of Skewness: \", skewness)\n",
        "\n",
        "\n"
      ]
    },
    {
      "cell_type": "code",
      "execution_count": 11,
      "metadata": {},
      "outputs": [
        {
          "data": {
            "image/png": "[encoded data removed]",
            "text/plain": [
              "<Figure size 640x480 with 1 Axes>"
            ]
          },
          "metadata": {},
          "output_type": "display_data"
        }
      ],
      "source": [
        "#Q2c\n",
        "\n",
        "\n",
        "#Create a side-by-side boxplot of the number of people in the household for owners and renters. \n",
        "# What do you notice about the distributions of the number of people in the household for owners and renters?\n",
        "\n",
        "#owners boxplot (not displaying this)\n",
        "sb.boxplot(x = \"TEN\", y = \"NP\", data = owners)\n",
        "\n",
        "#renters boxplot (not displaying this)\n",
        "sb.boxplot(x = \"TEN\", y = \"NP\", data = renters)\n",
        "plt.show()\n",
        "\n",
        "#Among owners, the number of people in a house is visibly higher than renters. They have a higher Q1, Q3, and median value.\n",
        "#The spread of the number of people in the household for owners is also slightly greater than renters. \n",
        "\n"
      ]
    },
    {
      "cell_type": "code",
      "execution_count": 12,
      "metadata": {},
      "outputs": [
        {
          "name": "stdout",
          "output_type": "stream",
          "text": [
            "Effect Size:  0.2016556058858045\n"
          ]
        }
      ],
      "source": [
        "\n",
        "#Q2d\n",
        "\n",
        "#mean of owners\n",
        "mean_owners = owners[\"NP\"].mean()\n",
        "\n",
        "#mean of renters\n",
        "mean_renters = renters[\"NP\"].mean()\n",
        "\n",
        "#standard deviation of owners\n",
        "std_owners = owners[\"NP\"].std()\n",
        "\n",
        "#standard deviation of renters\n",
        "std_renters = renters[\"NP\"].std()\n",
        "\n",
        "#pooled standard deviation\n",
        "pooled_std = np.sqrt((std_owners ** 2 + std_renters ** 2) / 2)\n",
        "\n",
        "#effect size\n",
        "effect_size = (mean_owners - mean_renters) / pooled_std\n",
        "\n",
        "print(\"Effect Size: \", effect_size)\n",
        "\n",
        "#The effect size of the difference in means of the number of people in the household for owners and renters is 0.20166.\n",
        "\n",
        "#The effect size of 0.20166 falls within the range of (0.2, 0.5] which is considered a medium effect size.\n",
        "#A medium effect size indicates that the difference in means of the number \n",
        "#of people in the household for owners and renters is moderate.\n"
      ]
    },
    {
      "cell_type": "code",
      "execution_count": 14,
      "metadata": {},
      "outputs": [
        {
          "name": "stdout",
          "output_type": "stream",
          "text": [
            "Sum of squared deviations from the mean:  2514930676893640.5\n",
            "Sum of squared deviations from the median:  2693213854216370.0\n"
          ]
        }
      ],
      "source": [
        "#Q3a\n",
        "\n",
        "#sum of squared deviations from the mean\n",
        "\n",
        "mean = acs[\"HINCP\"].mean()\n",
        "\n",
        "sum_squared_deviations_mean = ((acs[\"HINCP\"] - mean) ** 2).sum()\n",
        "\n",
        "#sum of squared deviations from the median\n",
        "median = acs[\"HINCP\"].median()\n",
        "\n",
        "sum_squared_deviations_median = ((acs[\"HINCP\"] - median) ** 2).sum()\n",
        "\n",
        "print(\"Sum of squared deviations from the mean: \", sum_squared_deviations_mean)\n",
        "\n",
        "print(\"Sum of squared deviations from the median: \", sum_squared_deviations_median)\n",
        "\n",
        "#The sum of squared deviations from the mean is less than the sum of squared deviations from the median."
      ]
    },
    {
      "cell_type": "markdown",
      "metadata": {},
      "source": [
        "### Q3.b\n",
        "\n",
        "Now, using $\\bar X$ and $\\tilde X$, compute the **sum of absolute distances**, $\\sum_{i=1}^n | X_i - \\bar X |$ and $\\sum_{i=1}^n |X_i - \\tilde X|$. Recall the `.abs()` method can compute the absolute value of a series."
      ]
    },
    {
      "cell_type": "code",
      "execution_count": 16,
      "metadata": {},
      "outputs": [
        {
          "name": "stdout",
          "output_type": "stream",
          "text": [
            "Sum of absolute distances from the mean:  15613409566.75057\n",
            "Sum of absolute distances from the median:  14508223606.0\n"
          ]
        }
      ],
      "source": [
        "#Q3b\n",
        "\n",
        "#sum of absolute distances from the mean\n",
        "sum_absolute_distances_mean = (acs[\"HINCP\"] - mean).abs().sum()\n",
        "\n",
        "#sum of absolute distances from the median\n",
        "sum_absolute_distances_median = (acs[\"HINCP\"] - median).abs().sum()\n",
        "\n",
        "print(\"Sum of absolute distances from the mean: \", sum_absolute_distances_mean)\n",
        "print(\"Sum of absolute distances from the median: \", sum_absolute_distances_median)\n",
        "\n",
        "'''While we are not rising to the level of a mathematical proof, what do these result suggest \n",
        "about which type of measure of location would minimize the sum of absolute differences?\n",
        "'''\n"
      ]
    },
    {
      "cell_type": "markdown",
      "metadata": {},
      "source": [
        "### Q3.c\n",
        "\n",
        "While we are not rising to the level of a mathematical proof, what do these result suggest about which type of measure of location would minimize the sum of absolute differences?\n"
      ]
    },
    {
      "cell_type": "code",
      "execution_count": null,
      "metadata": {},
      "outputs": [],
      "source": [
        "#Q3c\n",
        "\n",
        "#The sum of absolute distances from the mean is 15613409566.75057 and that of the median is 14508223606.0\n",
        "#The sum of absolute distances from the median is less than the sum of absolute distances from the mean.\n",
        "#This suggests that the median would minimize the sum of absolute differences."
      ]
    }
  ],
  "metadata": {
    "kernelspec": {
      "display_name": "Python 3",
      "language": "python",
      "name": "python3"
    },
    "language_info": {
      "codemirror_mode": {
        "name": "ipython",
        "version": 3
      },
      "file_extension": ".py",
      "mimetype": "text/x-python",
      "name": "python",
      "nbconvert_exporter": "python",
      "pygments_lexer": "ipython3",
      "version": "3.12.1"
    }
  },
  "nbformat": 4,
  "nbformat_minor": 4
}
